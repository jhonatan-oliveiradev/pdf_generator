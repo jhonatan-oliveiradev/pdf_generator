{
 "cells": [
  {
   "cell_type": "code",
   "execution_count": 1,
   "id": "27603e28",
   "metadata": {},
   "outputs": [
    {
     "name": "stdout",
     "output_type": "stream",
     "text": [
      "Orçamento gerado com sucesso!\n",
      "Semana do Python na prática\n",
      "eu adoro programar\n"
     ]
    }
   ],
   "source": [
    "print(\"Orçamento gerado com sucesso!\")\n",
    "print(\"Semana do Python na prática\")\n",
    "print(\"eu adoro programar\")"
   ]
  },
  {
   "cell_type": "markdown",
   "id": "77388463",
   "metadata": {},
   "source": [
    "# Entrada de dados"
   ]
  },
  {
   "cell_type": "code",
   "execution_count": 2,
   "id": "88e2a2c8",
   "metadata": {},
   "outputs": [
    {
     "name": "stdout",
     "output_type": "stream",
     "text": [
      "Digite a descrição do projeto: Desenvolvimento Web\n",
      "Digite o total de horas estimadas: 150\n",
      "Digite o valor da hora trabalhada: 80\n",
      "Digite o prazo estimado: 2 meses\n"
     ]
    },
    {
     "data": {
      "text/plain": [
       "'2 meses'"
      ]
     },
     "execution_count": 2,
     "metadata": {},
     "output_type": "execute_result"
    }
   ],
   "source": [
    "input(\"Digite a descrição do projeto: \")\n",
    "input(\"Digite o total de horas estimadas: \")\n",
    "input(\"Digite o valor da hora trabalhada: \")\n",
    "input(\"Digite o prazo estimado: \")"
   ]
  },
  {
   "cell_type": "markdown",
   "id": "1a06f3c4",
   "metadata": {},
   "source": [
    "# Gravando dados (variáveis)\n",
    "\n",
    "- não pode começar com número\n",
    "- não pode ter espaço\n",
    "- não pode ser uma palavra do python"
   ]
  },
  {
   "cell_type": "code",
   "execution_count": 3,
   "id": "07dbf43c",
   "metadata": {},
   "outputs": [
    {
     "name": "stdout",
     "output_type": "stream",
     "text": [
      "Digite a descrição do projeto: Desenvolvimento Web\n",
      "Digite o total de horas estimadas: 120\n",
      "Digite o valor da hora trabalhada: 100\n",
      "Digite o prazo estimado: 3 meses\n"
     ]
    }
   ],
   "source": [
    "projeto = input(\"Digite a descrição do projeto: \")\n",
    "horas_estimadas = input(\"Digite o total de horas estimadas: \")\n",
    "valor_hora = input(\"Digite o valor da hora trabalhada: \")\n",
    "prazo = input(\"Digite o prazo estimado: \")"
   ]
  },
  {
   "cell_type": "markdown",
   "id": "1958f664",
   "metadata": {},
   "source": [
    "# Cálculos"
   ]
  },
  {
   "cell_type": "markdown",
   "id": "43f7d637",
   "metadata": {},
   "source": [
    "## Tipo de dados"
   ]
  },
  {
   "cell_type": "code",
   "execution_count": 4,
   "id": "32d6d2e6",
   "metadata": {},
   "outputs": [],
   "source": [
    "valor_total = int(horas_estimadas) * int(valor_hora)"
   ]
  },
  {
   "cell_type": "code",
   "execution_count": 5,
   "id": "2a7d0b1d",
   "metadata": {},
   "outputs": [
    {
     "name": "stdout",
     "output_type": "stream",
     "text": [
      "12000\n"
     ]
    }
   ],
   "source": [
    "print(valor_total)"
   ]
  },
  {
   "cell_type": "markdown",
   "id": "30a19bd1",
   "metadata": {},
   "source": [
    "# Gerador de PDF"
   ]
  },
  {
   "cell_type": "code",
   "execution_count": 6,
   "id": "8282532c",
   "metadata": {},
   "outputs": [
    {
     "name": "stdout",
     "output_type": "stream",
     "text": [
      "Defaulting to user installation because normal site-packages is not writeable\n",
      "Requirement already satisfied: fpdf in c:\\users\\peves\\appdata\\roaming\\python\\python310\\site-packages (1.7.2)\n",
      "Note: you may need to restart the kernel to use updated packages.\n"
     ]
    }
   ],
   "source": [
    "pip install fpdf"
   ]
  },
  {
   "cell_type": "code",
   "execution_count": 9,
   "id": "ba0dbdf3",
   "metadata": {},
   "outputs": [],
   "source": [
    "from fpdf import FPDF"
   ]
  },
  {
   "cell_type": "code",
   "execution_count": 11,
   "id": "af20878a",
   "metadata": {},
   "outputs": [],
   "source": [
    "pdf = FPDF()\n",
    "\n",
    "pdf.add_page()\n",
    "pdf.set_font(\"Arial\")"
   ]
  },
  {
   "cell_type": "code",
   "execution_count": null,
   "id": "d1741825",
   "metadata": {},
   "outputs": [],
   "source": []
  },
  {
   "cell_type": "code",
   "execution_count": null,
   "id": "48d23aa8",
   "metadata": {},
   "outputs": [],
   "source": []
  },
  {
   "cell_type": "code",
   "execution_count": null,
   "id": "36c754f7",
   "metadata": {},
   "outputs": [],
   "source": []
  },
  {
   "cell_type": "code",
   "execution_count": null,
   "id": "33c1c579",
   "metadata": {},
   "outputs": [],
   "source": []
  },
  {
   "cell_type": "code",
   "execution_count": null,
   "id": "1ba717c7",
   "metadata": {},
   "outputs": [],
   "source": []
  },
  {
   "cell_type": "code",
   "execution_count": null,
   "id": "c6052bf3",
   "metadata": {},
   "outputs": [],
   "source": []
  }
 ],
 "metadata": {
  "kernelspec": {
   "display_name": "Python 3 (ipykernel)",
   "language": "python",
   "name": "python3"
  },
  "language_info": {
   "codemirror_mode": {
    "name": "ipython",
    "version": 3
   },
   "file_extension": ".py",
   "mimetype": "text/x-python",
   "name": "python",
   "nbconvert_exporter": "python",
   "pygments_lexer": "ipython3",
   "version": "3.10.9"
  }
 },
 "nbformat": 4,
 "nbformat_minor": 5
}
